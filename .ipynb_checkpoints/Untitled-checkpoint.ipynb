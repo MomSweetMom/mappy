{
 "cells": [
  {
   "cell_type": "markdown",
   "metadata": {},
   "source": [
    "## [MAPPY](https://gist.github.com/lexman/3548bf1f3c733fed7b1322139f67805b#file-enonce-md) ##"
   ]
  },
  {
   "cell_type": "code",
   "execution_count": 10,
   "metadata": {},
   "outputs": [],
   "source": [
    "import pdb  # debugger\n",
    "import re"
   ]
  },
  {
   "cell_type": "code",
   "execution_count": 6,
   "metadata": {},
   "outputs": [],
   "source": [
    "log = []\n",
    "with open('tornik-map-20171006.10000.tsv', 'r') as file:\n",
    "    content = file.readlines()\n",
    "log = [x.split('\\t') for x in content]"
   ]
  },
  {
   "cell_type": "code",
   "execution_count": 44,
   "metadata": {},
   "outputs": [],
   "source": [
    "assert log[0][1][:14]=='/map/1.0/slab/'  # True"
   ]
  },
  {
   "cell_type": "code",
   "execution_count": 45,
   "metadata": {},
   "outputs": [
    {
     "data": {
      "text/plain": [
       "'traffic'"
      ]
     },
     "execution_count": 45,
     "metadata": {},
     "output_type": "execute_result"
    }
   ],
   "source": [
    "re.match('(\\w+)',log[0][1][14:]).group(0)"
   ]
  },
  {
   "cell_type": "code",
   "execution_count": 82,
   "metadata": {},
   "outputs": [],
   "source": [
    "# Question 1\n",
    "# Mapper\n",
    "m = []\n",
    "for line in log:\n",
    "    if (len(line)>1) and (line[1][:14]=='/map/1.0/slab/'):\n",
    "        t = re.match('(\\w+)', line[1][14:])\n",
    "        if t.group(0) is not None:\n",
    "            m.append((t.group(0), 1))"
   ]
  },
  {
   "cell_type": "code",
   "execution_count": 83,
   "metadata": {},
   "outputs": [
    {
     "data": {
      "text/plain": [
       "[('traffic', 1),\n",
       " ('standard_hd', 1),\n",
       " ('standard_hd', 1),\n",
       " ('photo', 1),\n",
       " ('standard', 1)]"
      ]
     },
     "execution_count": 83,
     "metadata": {},
     "output_type": "execute_result"
    }
   ],
   "source": [
    "m[:5]"
   ]
  },
  {
   "cell_type": "code",
   "execution_count": 219,
   "metadata": {},
   "outputs": [],
   "source": [
    "# Reducer\n",
    "result = []\n",
    "current_category = None\n",
    "current_count = 0\n",
    "category = None\n",
    "for item in m:\n",
    "    # pdb.set_trace()\n",
    "    category, count = item[0], item[1]\n",
    "    if current_category == category:\n",
    "        current_count += count\n",
    "    else:\n",
    "        if current_category:\n",
    "            result.append((current_category, current_count))\n",
    "        current_count = count\n",
    "        current_category = category  "
   ]
  },
  {
   "cell_type": "code",
   "execution_count": 220,
   "metadata": {},
   "outputs": [
    {
     "data": {
      "text/plain": [
       "[('traffic', 1),\n",
       " ('standard_hd', 2),\n",
       " ('photo', 1),\n",
       " ('standard', 2),\n",
       " ('traffic_hd', 1),\n",
       " ('standard', 1),\n",
       " ('traffic', 1),\n",
       " ('standard', 1),\n",
       " ('traffic', 1),\n",
       " ('photo', 1)]"
      ]
     },
     "execution_count": 220,
     "metadata": {},
     "output_type": "execute_result"
    }
   ],
   "source": [
    "result[:10]"
   ]
  },
  {
   "cell_type": "code",
   "execution_count": 73,
   "metadata": {},
   "outputs": [
    {
     "data": {
      "text/plain": [
       "['', 'map', '1.0', 'slab', 'traffic', '256', '9', '260', '177\\n']"
      ]
     },
     "execution_count": 73,
     "metadata": {},
     "output_type": "execute_result"
    }
   ],
   "source": [
    "# find zoom\n",
    "log[0][1].split('/')"
   ]
  },
  {
   "cell_type": "code",
   "execution_count": 141,
   "metadata": {},
   "outputs": [],
   "source": [
    "# Question 2\n",
    "# Mapper\n",
    "m = []\n",
    "for line in log:\n",
    "    if (len(line)>1) and (line[1][:14]=='/map/1.0/slab/'):\n",
    "        t = re.match('(\\w+)', line[1][14:])\n",
    "        if t.group(0) is not None:\n",
    "            # add resolution\n",
    "            r = int(line[1].split('/')[6])\n",
    "            m.append((t.group(0), 1, r))"
   ]
  },
  {
   "cell_type": "code",
   "execution_count": 142,
   "metadata": {
    "scrolled": true
   },
   "outputs": [
    {
     "data": {
      "text/plain": [
       "[('traffic', 1, 9),\n",
       " ('standard_hd', 1, 16),\n",
       " ('standard_hd', 1, 16),\n",
       " ('photo', 1, 16),\n",
       " ('standard', 1, 19)]"
      ]
     },
     "execution_count": 142,
     "metadata": {},
     "output_type": "execute_result"
    }
   ],
   "source": [
    "m[:5]"
   ]
  },
  {
   "cell_type": "code",
   "execution_count": 195,
   "metadata": {},
   "outputs": [],
   "source": [
    "import pdb"
   ]
  },
  {
   "cell_type": "code",
   "execution_count": 222,
   "metadata": {},
   "outputs": [],
   "source": [
    "# Reducer\n",
    "result = []\n",
    "current_category = None\n",
    "current_count = 0\n",
    "current_zoom = set()\n",
    "category = None\n",
    "for item in m:\n",
    "    # pdb.set_trace()\n",
    "    category, count = item[0], item[1]\n",
    "    zoom = set()\n",
    "    zoom.add(item[2])\n",
    "    if current_category == category:\n",
    "        current_count += count\n",
    "        current_zoom.update(zoom)\n",
    "    else:\n",
    "        if current_category:\n",
    "            result.append((current_category, current_count, current_zoom))\n",
    "        current_count = count\n",
    "        current_category = category\n",
    "        current_zoom = zoom"
   ]
  },
  {
   "cell_type": "code",
   "execution_count": 223,
   "metadata": {},
   "outputs": [
    {
     "data": {
      "text/plain": [
       "[('traffic', 1, {9}),\n",
       " ('standard_hd', 2, {16}),\n",
       " ('photo', 1, {16}),\n",
       " ('standard', 2, {17, 19}),\n",
       " ('traffic_hd', 1, {12})]"
      ]
     },
     "execution_count": 223,
     "metadata": {},
     "output_type": "execute_result"
    }
   ],
   "source": [
    "result[:5]"
   ]
  },
  {
   "cell_type": "code",
   "execution_count": null,
   "metadata": {},
   "outputs": [],
   "source": []
  }
 ],
 "metadata": {
  "kernelspec": {
   "display_name": "Python 3",
   "language": "python",
   "name": "python3"
  },
  "language_info": {
   "codemirror_mode": {
    "name": "ipython",
    "version": 3
   },
   "file_extension": ".py",
   "mimetype": "text/x-python",
   "name": "python",
   "nbconvert_exporter": "python",
   "pygments_lexer": "ipython3",
   "version": "3.6.8"
  }
 },
 "nbformat": 4,
 "nbformat_minor": 2
}
